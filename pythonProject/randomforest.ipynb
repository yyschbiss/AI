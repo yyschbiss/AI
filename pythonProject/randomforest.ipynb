{
 "cells": [
  {
   "cell_type": "code",
   "execution_count": 49,
   "id": "f4390972",
   "metadata": {},
   "outputs": [],
   "source": [
    "\n",
    "from sklearn.datasets import load_digits\n",
    "from sklearn.model_selection import train_test_split\n",
    "from sklearn.ensemble import RandomForestClassifier\n",
    "from sklearn.model_selection import cross_val_score\n",
    "import matplotlib.pyplot as plt\n",
    "from sklearn.ensemble import GradientBoostingClassifier\n",
    "from sklearn.metrics import confusion_matrix\n",
    "from sklearn.metrics import recall_score\n",
    "from sklearn import metrics\n",
    "import joblib\n",
    "from sklearn.ensemble import RandomForestClassifier\n",
    "from sklearn.model_selection import GridSearchCV\n",
    "from sklearn.model_selection import cross_val_score\n",
    "import matplotlib.pyplot as plt\n",
    "import pandas as pd\n",
    "from sklearn.model_selection import train_test_split\n",
    "import numpy as np\n",
    "from random import sample"
   ]
  },
  {
   "cell_type": "code",
   "execution_count": 50,
   "id": "b8b33c83",
   "metadata": {},
   "outputs": [
    {
     "name": "stdout",
     "output_type": "stream",
     "text": [
      "(10000, 16)\n"
     ]
    }
   ],
   "source": [
    "# 读取全部数据，查看整个数据的分布情况\n",
    "traindata = np.loadtxt(\"..\\\\traindata\\\\GG2-1-1.txt\", usecols=np.arange(0,))\n",
    "print(traindata.shape)\n"
   ]
  },
  {
   "cell_type": "code",
   "execution_count": 51,
   "id": "ebd3b234",
   "metadata": {},
   "outputs": [
    {
     "name": "stdout",
     "output_type": "stream",
     "text": [
      "(2841837, 16)\n"
     ]
    }
   ],
   "source": [
    "# 测试数据排除XYZ坐标后重新读取数据与标签\n",
    "testdata = np.loadtxt(\"..\\\\testdata\\\\GG2-1-3.txt\", usecols=np.arange(0,))\n",
    "print(testdata.shape)"
   ]
  },
  {
   "cell_type": "code",
   "execution_count": 52,
   "outputs": [
    {
     "name": "stdout",
     "output_type": "stream",
     "text": [
      "(2851837, 16)\n"
     ]
    }
   ],
   "source": [
    "#合并数据集\n",
    "data = np.concatenate((traindata, testdata), axis=0)\n",
    "print(data.shape)\n",
    "\n"
   ],
   "metadata": {
    "collapsed": false,
    "pycharm": {
     "name": "#%%\n"
    }
   }
  },
  {
   "cell_type": "code",
   "execution_count": 55,
   "outputs": [
    {
     "name": "stdout",
     "output_type": "stream",
     "text": [
      "(1000000, 16)\n"
     ]
    }
   ],
   "source": [
    "#随机选取100万条\n",
    "train_set, test_set = train_test_split(data, test_size=0.35065117676, random_state=42)\n",
    "print(test_set.shape)\n",
    "\n"
   ],
   "metadata": {
    "collapsed": false,
    "pycharm": {
     "name": "#%%\n"
    }
   }
  },
  {
   "cell_type": "code",
   "execution_count": 56,
   "outputs": [],
   "source": [
    "#以test_set作为真正的数据集保存100万条数据\n",
    "np.savetxt('..\\\\data_set\\\\data_set.txt', test_set, delimiter='    ', fmt='%f')"
   ],
   "metadata": {
    "collapsed": false,
    "pycharm": {
     "name": "#%%\n"
    }
   }
  },
  {
   "cell_type": "code",
   "execution_count": 57,
   "outputs": [],
   "source": [
    "#读取全部数据，查看整个数据的分布情况\n",
    "# traindata = np.loadtxt(\"..\\\\traindata\\\\GG2-1-1.txt\", usecols=np.arange(3, 15))\n",
    "# trainlabel = np.loadtxt(\"..\\\\traindata\\\\GG2-1-1.txt\", usecols=(15,))\n",
    "# print(traindata.shape)\n",
    "# print(trainlabel.shape)"
   ],
   "metadata": {
    "collapsed": false,
    "pycharm": {
     "name": "#%%\n"
    }
   }
  },
  {
   "cell_type": "code",
   "execution_count": 58,
   "outputs": [],
   "source": [
    "# 测试数据排除XYZ坐标后重新读取数据与标签\n",
    "# testdata = np.loadtxt(\"..\\\\testdata\\\\GG2-1-3.txt\", usecols=np.arange(3, 15))\n",
    "# testlabel = np.loadtxt(\"..\\\\testdata\\\\GG2-1-3.txt\", usecols=(15,))\n",
    "# print(testdata.shape)\n",
    "# print(testdata.shape)"
   ],
   "metadata": {
    "collapsed": false,
    "pycharm": {
     "name": "#%%\n"
    }
   }
  },
  {
   "cell_type": "code",
   "execution_count": 59,
   "outputs": [
    {
     "name": "stdout",
     "output_type": "stream",
     "text": [
      "(1000000, 12)\n",
      "(1000000,)\n"
     ]
    }
   ],
   "source": [
    "# 读取100万条数据\n",
    "data=np.loadtxt(\"..\\\\data_set\\\\data_set.txt\", usecols=np.arange(3, 15))\n",
    "label=np.loadtxt(\"..\\\\data_set\\\\data_set.txt\", usecols=(15,))\n",
    "print(data.shape)\n",
    "print(label.shape)\n",
    "#读取测试数据xyz坐标，用于最后可视化输出\n",
    "dataXYZ=np.loadtxt(\"..\\\\data_set\\\\data_set.txt\", usecols=np.arange(0,3))\n",
    "testXYZ=dataXYZ[10000:]"
   ],
   "metadata": {
    "collapsed": false,
    "pycharm": {
     "name": "#%%\n"
    }
   }
  },
  {
   "cell_type": "markdown",
   "source": [],
   "metadata": {
    "collapsed": false
   }
  },
  {
   "cell_type": "code",
   "execution_count": 60,
   "outputs": [
    {
     "name": "stdout",
     "output_type": "stream",
     "text": [
      "(10000, 12)\n",
      "(10000,)\n",
      "(990000, 12)\n",
      "(990000,)\n"
     ]
    }
   ],
   "source": [
    "#选取前一万条作为训练数据\n",
    "train_data=data[0:10000]\n",
    "train_label=label[0:10000]\n",
    "#后九十九万条为测试数据\n",
    "test_data=data[10000:]\n",
    "test_label=label[10000:]\n",
    "print(train_data.shape)\n",
    "print(train_label.shape)\n",
    "print(test_data.shape)\n",
    "print(test_label.shape)"
   ],
   "metadata": {
    "collapsed": false,
    "pycharm": {
     "name": "#%%\n"
    }
   }
  },
  {
   "cell_type": "code",
   "execution_count": 60,
   "outputs": [],
   "source": [
    "\n"
   ],
   "metadata": {
    "collapsed": false,
    "pycharm": {
     "name": "#%%\n"
    }
   }
  },
  {
   "cell_type": "code",
   "execution_count": 61,
   "outputs": [
    {
     "name": "stdout",
     "output_type": "stream",
     "text": [
      "原有模型得分： 0.9629868686868687\n"
     ]
    }
   ],
   "source": [
    "forestClassifer = RandomForestClassifier(n_estimators=100)\n",
    "forestClassifer.fit(train_data,train_label)\n",
    "score=forestClassifer.score(test_data,test_label)\n",
    "print(\"原有模型得分：\",score)"
   ],
   "metadata": {
    "collapsed": false,
    "pycharm": {
     "name": "#%%\n"
    }
   }
  },
  {
   "cell_type": "code",
   "execution_count": 62,
   "outputs": [
    {
     "name": "stdout",
     "output_type": "stream",
     "text": [
      "0.9602919191919191\n",
      "0.9620515151515151\n",
      "0.9627161616161616\n",
      "0.9627474747474748\n",
      "0.9629151515151515\n",
      "0.9629151515151515\n",
      "0.9630444444444445\n",
      "0.9631464646464647\n",
      "0.9631939393939394\n",
      "0.9632949494949495\n",
      "0.9632868686868686\n",
      "0.9632474747474747\n",
      "0.9632070707070707\n",
      "0.9632212121212121\n",
      "0.9632333333333334\n",
      "0.9632555555555555\n",
      "0.9632777777777778\n",
      "0.963279797979798\n",
      "0.9633050505050506\n",
      "0.9632969696969697\n",
      "最大得分: 0.9633050505050506  n_estimators= 190\n"
     ]
    }
   ],
   "source": [
    "#加载数据模型\n",
    "score_list = []\n",
    "score = 0\n",
    "for i in range(10, 201, 10):\n",
    "    forestClassifer = RandomForestClassifier(n_estimators=i,n_jobs=-1,random_state=90)\n",
    "    forestClassifer.fit(train_data,train_label)\n",
    "    score=forestClassifer.score(test_data,test_label)\n",
    "    #计算得分\n",
    "    score_list.append(score)\n",
    "    print(score)\n",
    "\n",
    "print(\"最大得分:\", max(score_list), \" n_estimators=\", (score_list.index(max(score_list))+1) * 10)"
   ],
   "metadata": {
    "collapsed": false,
    "pycharm": {
     "name": "#%%\n"
    }
   }
  },
  {
   "cell_type": "code",
   "execution_count": 63,
   "outputs": [
    {
     "data": {
      "text/plain": "<Figure size 2000x500 with 1 Axes>",
      "image/png": "[encoded data removed]"
     },
     "metadata": {},
     "output_type": "display_data"
    }
   ],
   "source": [
    "# 图形显示\n",
    "plt.figure(figsize=[20,5])\n",
    "plt.plot(range(10,201,10),score_list)\n",
    "plt.xlabel('n_estimators')\n",
    "plt.ylabel('scores')\n",
    "plt.title('best_range_trees')\n",
    "plt.grid(True)\n",
    "plt.savefig('..//result//best_range_trees.png')\n",
    "plt.show()\n",
    "\n"
   ],
   "metadata": {
    "collapsed": false,
    "pycharm": {
     "name": "#%%\n"
    }
   }
  },
  {
   "cell_type": "code",
   "execution_count": 64,
   "outputs": [
    {
     "name": "stdout",
     "output_type": "stream",
     "text": [
      "0.963279797979798\n",
      "0.9633111111111111\n",
      "0.9632989898989899\n",
      "0.9633222222222222\n",
      "0.9633101010101011\n",
      "0.9633272727272727\n",
      "0.9633131313131313\n",
      "0.9633333333333334\n",
      "0.9633222222222222\n",
      "0.9633353535353535\n",
      "0.9633050505050506\n",
      "0.963320202020202\n",
      "0.9633191919191919\n",
      "0.9633575757575757\n",
      "0.9633151515151516\n",
      "0.9633414141414142\n",
      "0.9633242424242424\n",
      "0.9633333333333334\n",
      "0.9633292929292929\n",
      "0.9633353535353535\n",
      "最大得分: 0.9633575757575757  n_estimators= 193\n"
     ]
    }
   ],
   "source": [
    "#加载数据模型\n",
    "score_list = []\n",
    "score = 0\n",
    "for i in range(180, 200, 1):\n",
    "    forestClassifer = RandomForestClassifier(n_estimators=i,n_jobs=-1,random_state=90)\n",
    "    forestClassifer.fit(train_data,train_label)\n",
    "    score=forestClassifer.score(test_data,test_label)\n",
    "    #计算得分\n",
    "    score_list.append(score)\n",
    "    print(score)\n",
    "\n",
    "print(\"最大得分:\", max(score_list), \" n_estimators=\", (score_list.index(max(score_list))+180))"
   ],
   "metadata": {
    "collapsed": false,
    "pycharm": {
     "name": "#%%\n"
    }
   }
  },
  {
   "cell_type": "code",
   "execution_count": 65,
   "outputs": [
    {
     "data": {
      "text/plain": "<Figure size 2000x500 with 1 Axes>",
      "image/png": "[encoded data removed]"
     },
     "metadata": {},
     "output_type": "display_data"
    }
   ],
   "source": [
    "# 图形显示\n",
    "plt.figure(figsize=[20,5])\n",
    "plt.plot(range(180,200,1),score_list)\n",
    "plt.xlabel('n_estimators')\n",
    "plt.ylabel('scores')\n",
    "plt.title('best_num_trees')\n",
    "plt.grid(True)\n",
    "plt.savefig('..//result//best_num_trees.png')\n",
    "plt.show()\n"
   ],
   "metadata": {
    "collapsed": false,
    "pycharm": {
     "name": "#%%\n"
    }
   }
  },
  {
   "cell_type": "code",
   "execution_count": 66,
   "outputs": [
    {
     "name": "stdout",
     "output_type": "stream",
     "text": [
      "0.9592686868686868\n",
      "0.9606757575757576\n",
      "0.9619686868686869\n",
      "0.9624494949494949\n",
      "0.9626242424242424\n",
      "0.9629525252525253\n",
      "0.9631272727272727\n",
      "0.9633787878787878\n",
      "0.9634444444444444\n",
      "0.9633111111111111\n",
      "0.9633868686868687\n",
      "0.9631131313131314\n",
      "0.9633757575757576\n",
      "0.9634282828282829\n",
      "0.963330303030303\n",
      "0.9633363636363637\n",
      "0.9633444444444444\n",
      "0.9633323232323232\n",
      "0.963360606060606\n",
      "0.9633575757575757\n",
      "0.9633575757575757\n",
      "0.9633575757575757\n",
      "0.9633575757575757\n",
      "0.9633575757575757\n",
      "0.9633575757575757\n",
      "0.9633575757575757\n",
      "0.9633575757575757\n",
      "0.9633575757575757\n",
      "0.9633575757575757\n",
      "0.9633575757575757\n",
      "最大得分: 0.9634444444444444  max_depth: 13\n"
     ]
    }
   ],
   "source": [
    "num_trees=193\n",
    "#找到最优深度\n",
    "score_list=[]\n",
    "score=0\n",
    "for i in range(5,35):\n",
    "    forestClassifer = RandomForestClassifier(n_estimators=num_trees,n_jobs=-1,random_state=90,max_depth=i)\n",
    "    forestClassifer.fit(train_data,train_label)\n",
    "    score=forestClassifer.score(test_data,test_label)\n",
    "    print(score)\n",
    "    score_list.append(score)\n",
    "\n",
    "print(\"最大得分:\", max(score_list), \" max_depth:\", (score_list.index(max(score_list))+5))\n",
    "\n"
   ],
   "metadata": {
    "collapsed": false,
    "pycharm": {
     "name": "#%%\n"
    }
   }
  },
  {
   "cell_type": "code",
   "execution_count": 67,
   "outputs": [
    {
     "name": "stdout",
     "output_type": "stream",
     "text": [
      "0.963120202020202\n",
      "0.9629868686868687\n",
      "0.9629818181818182\n",
      "0.9629474747474748\n",
      "0.9629444444444445\n",
      "0.9628959595959596\n",
      "0.9627636363636364\n",
      "0.9625767676767677\n",
      "0.9625767676767677\n",
      "0.9625767676767677\n",
      "0.9625767676767677\n",
      "0.9625767676767677\n",
      "0.9625767676767677\n",
      "0.9625767676767677\n",
      "0.9625767676767677\n",
      "0.9625767676767677\n",
      "0.9625767676767677\n",
      "0.9625767676767677\n",
      "0.9625767676767677\n",
      "0.9625767676767677\n",
      "0.9625767676767677\n",
      "0.9625767676767677\n",
      "0.9625767676767677\n",
      "0.9625767676767677\n",
      "0.9625767676767677\n",
      "0.9625767676767677\n",
      "0.9625767676767677\n",
      "0.9625767676767677\n",
      "0.9625767676767677\n",
      "0.9625767676767677\n",
      "最大得分: 0.963120202020202  max_features 5\n"
     ]
    }
   ],
   "source": [
    "best_depth=13\n",
    "#调整最大特征\n",
    "score_list=[]\n",
    "score=0\n",
    "for i in range(5,35):\n",
    "    forestClassifer = RandomForestClassifier(n_estimators=num_trees,n_jobs=-1,random_state=90,max_depth=best_depth,max_features=i)\n",
    "    forestClassifer.fit(train_data,train_label)\n",
    "    score=forestClassifer.score(test_data,test_label)\n",
    "    print(score)\n",
    "    score_list.append(score)\n",
    "\n",
    "print(\"最大得分:\", max(score_list), \" max_features\", (score_list.index(max(score_list))+5))"
   ],
   "metadata": {
    "collapsed": false,
    "pycharm": {
     "name": "#%%\n"
    }
   }
  },
  {
   "cell_type": "code",
   "execution_count": 70,
   "outputs": [
    {
     "name": "stdout",
     "output_type": "stream",
     "text": [
      "0.9634444444444444\n",
      "0.9633222222222222\n",
      "0.9630666666666666\n",
      "0.9629444444444445\n",
      "0.9627979797979798\n",
      "0.9626020202020202\n",
      "0.962360606060606\n",
      "0.9624343434343434\n",
      "0.962160606060606\n",
      "0.9618858585858586\n",
      "0.9618767676767677\n",
      "0.9620070707070707\n",
      "0.961730303030303\n",
      "0.9615606060606061\n",
      "0.9613747474747475\n",
      "0.9611141414141414\n",
      "0.9608525252525253\n",
      "0.9608373737373738\n",
      "0.9605484848484849\n",
      "0.9607040404040404\n",
      "0.9604666666666667\n",
      "0.9603666666666667\n",
      "0.9605040404040404\n",
      "0.9605636363636364\n",
      "0.960349494949495\n",
      "0.9604717171717172\n",
      "0.9600252525252525\n",
      "0.9600343434343435\n",
      "0.9602131313131314\n",
      "最大得分: 0.9634444444444444  min_samples_leaf 1\n"
     ]
    }
   ],
   "source": [
    "#没有最优max_features\n",
    "#调整min_samples_leaf\n",
    "score_list=[]\n",
    "score=0\n",
    "for i in range(1,30):\n",
    "    forestClassifer = RandomForestClassifier(n_estimators=num_trees,n_jobs=-1,random_state=90,max_depth=best_depth,min_samples_leaf=i)\n",
    "    forestClassifer.fit(train_data,train_label)\n",
    "    score=forestClassifer.score(test_data,test_label)\n",
    "    print(score)\n",
    "    score_list.append(score)\n",
    "\n",
    "print(\"最大得分:\", max(score_list), \" min_samples_leaf\", (score_list.index(max(score_list))+1))"
   ],
   "metadata": {
    "collapsed": false,
    "pycharm": {
     "name": "#%%\n"
    }
   }
  },
  {
   "cell_type": "code",
   "execution_count": 71,
   "outputs": [
    {
     "name": "stdout",
     "output_type": "stream",
     "text": [
      "0.9634444444444444\n",
      "0.9630929292929293\n",
      "0.9632050505050505\n",
      "0.9630161616161617\n",
      "0.9630848484848484\n",
      "0.9629161616161617\n",
      "0.9629878787878788\n",
      "0.9632686868686868\n",
      "0.962830303030303\n",
      "0.9628494949494949\n",
      "0.9626222222222223\n",
      "0.9625777777777778\n",
      "0.9625828282828283\n",
      "0.9626\n",
      "0.9624252525252526\n",
      "0.9625626262626262\n",
      "0.9625656565656565\n",
      "0.9625262626262626\n",
      "0.962440404040404\n",
      "0.9624040404040404\n",
      "最大得分: 0.9634444444444444 min_samples_split 2\n"
     ]
    }
   ],
   "source": [
    "best_min_samples_leaf=1\n",
    "#调整min_samples_split\n",
    "score_list=[]\n",
    "score=0\n",
    "for i in range(2,22):\n",
    "    forestClassifer = RandomForestClassifier(n_estimators=num_trees,n_jobs=-1,random_state=90,max_depth=best_depth,min_samples_leaf=best_min_samples_leaf,min_samples_split=i)\n",
    "    forestClassifer.fit(train_data,train_label)\n",
    "    score=forestClassifer.score(test_data,test_label)\n",
    "    print(score)\n",
    "    score_list.append(score)\n",
    "\n",
    "print(\"最大得分:\", max(score_list), \"min_samples_split\", (score_list.index(max(score_list))+2))\n"
   ],
   "metadata": {
    "collapsed": false,
    "pycharm": {
     "name": "#%%\n"
    }
   }
  },
  {
   "cell_type": "code",
   "execution_count": 73,
   "outputs": [
    {
     "name": "stdout",
     "output_type": "stream",
     "text": [
      "0.9634444444444444\n",
      "0.9630888888888889\n",
      "最大得分: 0.9634444444444444 criterion 0\n"
     ]
    }
   ],
   "source": [
    "best_min_samples_split=2\n",
    "#调整计算方法\n",
    "method=['gini','entropy']\n",
    "score_list=[]\n",
    "score=0\n",
    "for i in method:\n",
    "    forestClassifer = RandomForestClassifier(n_estimators=num_trees,n_jobs=-1,random_state=90,max_depth=best_depth,min_samples_leaf=best_min_samples_leaf,min_samples_split=best_min_samples_split,criterion=i)\n",
    "    forestClassifer.fit(train_data,train_label)\n",
    "    score=forestClassifer.score(test_data,test_label)\n",
    "    print(score)\n",
    "    score_list.append(score)\n",
    "\n",
    "print(\"最大得分:\", max(score_list), \"criterion\", (score_list.index(max(score_list))))"
   ],
   "metadata": {
    "collapsed": false,
    "pycharm": {
     "name": "#%%\n"
    }
   }
  },
  {
   "cell_type": "code",
   "execution_count": 74,
   "outputs": [
    {
     "name": "stdout",
     "output_type": "stream",
     "text": [
      "最终得分： 0.9634444444444444\n"
     ]
    }
   ],
   "source": [
    "best_criterion='gini'\n",
    "\n",
    "#最终模型\n",
    "forestClassifer = RandomForestClassifier(n_estimators=num_trees,n_jobs=-1,random_state=90,max_depth=best_depth,min_samples_leaf=best_min_samples_leaf,min_samples_split=best_min_samples_split,criterion='gini')\n",
    "forestClassifer.fit(train_data,train_label)\n",
    "fin_score=forestClassifer.score(test_data,test_label)\n",
    "\n",
    "print('最终得分：',fin_score)"
   ],
   "metadata": {
    "collapsed": false,
    "pycharm": {
     "name": "#%%\n"
    }
   }
  },
  {
   "cell_type": "code",
   "execution_count": 75,
   "outputs": [],
   "source": [
    "#结果预测\n",
    "y_predictedForest=forestClassifer.predict(test_data)"
   ],
   "metadata": {
    "collapsed": false,
    "pycharm": {
     "name": "#%%\n"
    }
   }
  },
  {
   "cell_type": "code",
   "execution_count": 76,
   "outputs": [
    {
     "name": "stdout",
     "output_type": "stream",
     "text": [
      "所有的样本数量： 990000\n",
      "实际预测正确样本数量 953810\n",
      "TP+FP+FN 1026190\n",
      "OA: 0.963444\n",
      "mIoU: 0.735840\n",
      "wood precision: 0.795244\n",
      "wood recall: 0.586669\n",
      "leaf precision: 0.971885\n",
      "leaf recall: 0.989539\n"
     ]
    },
    {
     "name": "stderr",
     "output_type": "stream",
     "text": [
      "C:\\Users\\23571\\AppData\\Local\\Temp\\ipykernel_14656\\1626137601.py:14: DeprecationWarning: `np.float` is a deprecated alias for the builtin `float`. To silence this warning, use `float` by itself. Doing this will not modify any behavior and is safe. If you specifically wanted the numpy scalar type, use `np.float64` here.\n",
      "Deprecated in NumPy 1.20; for more details and guidance: https://numpy.org/devdocs/release/1.20.0-notes.html#deprecations\n",
      "  mIoU = np.mean(np.array(total_correct_class) / (np.array(total_iou_deno_class, dtype=np.float) + 1e-6))\n"
     ]
    }
   ],
   "source": [
    "#精度评价：\n",
    "\n",
    "total_seen_class = [0 for _ in range(2)]\n",
    "total_correct_class = [0 for _ in range(2)]\n",
    "total_pred_class = [0 for _ in range(2)]\n",
    "total_iou_deno_class = [0 for _ in range(2)]\n",
    "for l in range(2):\n",
    "    total_seen_class[l] += np.sum((test_label == l))\n",
    "    total_pred_class[l] += np.sum((y_predictedForest == l))\n",
    "    total_correct_class[l] += np.sum((y_predictedForest == l) & (test_label == l))\n",
    "    total_iou_deno_class[l] += np.sum((y_predictedForest == l) | (test_label == l))\n",
    "\n",
    "correct = np.sum((y_predictedForest == test_label))\n",
    "mIoU = np.mean(np.array(total_correct_class) / (np.array(total_iou_deno_class, dtype=np.float) + 1e-6))\n",
    "\n",
    "OA = correct / len(test_label)\n",
    "print(\"所有的样本数量：\",total_seen_class[0]+total_seen_class[1])\n",
    "print(\"实际预测正确样本数量\",total_correct_class[0]+total_correct_class[1])\n",
    "print(\"TP+FP+FN\",total_iou_deno_class[0]+total_iou_deno_class[1])\n",
    "print('OA: %f' % (OA))\n",
    "print('mIoU: %f' % (mIoU))\n",
    "print('wood precision: %f' % (total_correct_class[1] / total_pred_class[1]))\n",
    "print('wood recall: %f' % (total_correct_class[1] / total_seen_class[1]))\n",
    "print('leaf precision: %f' % (total_correct_class[0] / total_pred_class[0]))\n",
    "print('leaf recall: %f' % (total_correct_class[0] / total_seen_class[0]))"
   ],
   "metadata": {
    "collapsed": false,
    "pycharm": {
     "name": "#%%\n"
    }
   }
  },
  {
   "cell_type": "code",
   "execution_count": 77,
   "outputs": [
    {
     "name": "stdout",
     "output_type": "stream",
     "text": [
      "(990000, 1)\n",
      "(990000, 1)\n"
     ]
    }
   ],
   "source": [
    "#结果输出\n",
    "label_matrix = np.matrix(y_predictedForest)\n",
    "result_label = np.transpose(label_matrix)\n",
    "testlabel = test_label.reshape((-1, 1))\n",
    "print(result_label.shape)\n",
    "print(testlabel.shape)\n"
   ],
   "metadata": {
    "collapsed": false,
    "pycharm": {
     "name": "#%%\n"
    }
   }
  },
  {
   "cell_type": "code",
   "execution_count": 78,
   "outputs": [],
   "source": [
    "#x,y,z,预测标签，真实标签\n",
    "result_XYZL = np.concatenate((testXYZ, result_label, testlabel), axis=1)\n",
    "np.savetxt('..\\\\result\\\\result.txt', result_XYZL, fmt='%f', delimiter='\\t')"
   ],
   "metadata": {
    "collapsed": false,
    "pycharm": {
     "name": "#%%\n"
    }
   }
  },
  {
   "cell_type": "code",
   "execution_count": null,
   "outputs": [],
   "source": [],
   "metadata": {
    "collapsed": false,
    "pycharm": {
     "name": "#%%\n"
    }
   }
  }
 ],
 "metadata": {
  "kernelspec": {
   "display_name": "Python 3 (ipykernel)",
   "language": "python",
   "name": "python3"
  },
  "language_info": {
   "codemirror_mode": {
    "name": "ipython",
    "version": 3
   },
   "file_extension": ".py",
   "mimetype": "text/x-python",
   "name": "python",
   "nbconvert_exporter": "python",
   "pygments_lexer": "ipython3",
   "version": "3.10.10"
  }
 },
 "nbformat": 4,
 "nbformat_minor": 5
}